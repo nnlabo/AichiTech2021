{
 "cells": [
  {
   "cell_type": "markdown",
   "id": "31d058fe",
   "metadata": {},
   "source": [
    "# RNN/LSTMハンズオン\n",
    "日経平均を使った時系列データ予測にチャレンジ"
   ]
  },
  {
   "cell_type": "code",
   "execution_count": null,
   "id": "3e737b13",
   "metadata": {},
   "outputs": [],
   "source": [
    "%matplotlib inline\n",
    "%config InlineBackend.figure_format = 'svg'\n",
    "\n",
    "import matplotlib\n",
    "import matplotlib.pyplot as plt\n",
    "import scipy\n",
    "import numpy as np\n",
    "import pandas as pd\n",
    "import tensorflow as tf\n",
    "import sklearn.preprocessing as sp\n",
    "from sklearn.model_selection import train_test_split\n",
    "from keras.models import Sequential\n",
    "from keras.layers import Dense, Activation, SimpleRNN, GRU, LSTM\n",
    "from keras.optimizers import Adam\n",
    "from keras.callbacks import EarlyStopping\n",
    "\n",
    "\n",
    "# 描画を綺麗に表示する\n",
    "from matplotlib.pylab import rcParams\n",
    "import seaborn as sns\n",
    "rcParams['figure.figsize'] = 15, 6\n",
    "\n",
    "print('matplotlib version :', matplotlib.__version__)\n",
    "print('scipy version :', scipy.__version__)\n",
    "print('numpy version :', np.__version__)\n",
    "print('tensorflow version : ', tf.__version__)\n",
    "print('keras version : ', keras.__version__)"
   ]
  },
  {
   "cell_type": "markdown",
   "id": "adff170f",
   "metadata": {},
   "source": [
    "\n",
    "日経新聞の以下のWebページから「日経平均株価」の「日次データ」をダウンロードする。\n",
    "https://indexes.nikkei.co.jp/nkave/index?type=download\n",
    "\n",
    "ダウンロードしたCSVファイル（nikkei_stock_average_daily_jp.csv）を左側のウインドウにドラッグアンドドロップし、アップロードする。\n",
    "\n",
    "続いてファイル内容の確認を行う。"
   ]
  },
  {
   "cell_type": "code",
   "execution_count": null,
   "id": "72c2eb77",
   "metadata": {},
   "outputs": [],
   "source": [
    "%%bash\n",
    "head nikkei_stock_average_daily_jp.csv"
   ]
  },
  {
   "cell_type": "code",
   "execution_count": null,
   "id": "0e60bca1",
   "metadata": {},
   "outputs": [],
   "source": [
    "#文字エンコーディングが対応していないため、タイトル行が文字化けしてしまっているので、エンコードを変換。\n",
    "import codecs\n",
    "\n",
    "sf = codecs.open('nikkei_stock_average_daily_jp.csv', 'r', encoding='shift-jis')\n",
    "uf = codecs.open('nikkei_utf8.csv', 'w', encoding='utf-8')\n",
    "for line in sf:\n",
    "    uf.write(line)\n",
    "sf.close()\n",
    "uf.close()"
   ]
  },
  {
   "cell_type": "markdown",
   "id": "93bbb40a",
   "metadata": {},
   "source": [
    "修正結果の確認"
   ]
  },
  {
   "cell_type": "code",
   "execution_count": null,
   "id": "12217e13",
   "metadata": {},
   "outputs": [],
   "source": [
    "%%bash\n",
    "head nikkei_utf8.csv"
   ]
  },
  {
   "cell_type": "code",
   "execution_count": null,
   "id": "35e6ec32",
   "metadata": {},
   "outputs": [],
   "source": [
    "df = pd.read_csv('nikkei_utf8.csv')"
   ]
  },
  {
   "cell_type": "code",
   "execution_count": null,
   "id": "8c0c4c57",
   "metadata": {},
   "outputs": [],
   "source": [
    "df.head()"
   ]
  },
  {
   "cell_type": "code",
   "execution_count": null,
   "id": "e7db60da",
   "metadata": {},
   "outputs": [],
   "source": [
    "#カラム名を英名に変更\n",
    "df.set_axis([\"date\", \"close\", \"open\", \"high\", \"low\"], axis=\"columns\", inplace=True)"
   ]
  },
  {
   "cell_type": "code",
   "execution_count": null,
   "id": "a27a8b2b",
   "metadata": {},
   "outputs": [],
   "source": [
    "df.tail()"
   ]
  },
  {
   "cell_type": "code",
   "execution_count": null,
   "id": "82f47621",
   "metadata": {},
   "outputs": [],
   "source": [
    "#最終行に不要データがあるため削除。\n",
    "df.drop(index=df.index[-1], inplace=True)"
   ]
  },
  {
   "cell_type": "code",
   "execution_count": null,
   "id": "2e6c537f",
   "metadata": {},
   "outputs": [],
   "source": [
    "df.tail()"
   ]
  },
  {
   "cell_type": "code",
   "execution_count": null,
   "id": "f4f51989",
   "metadata": {},
   "outputs": [],
   "source": [
    "#全データの再確認\n",
    "print(df)\n",
    "print(df.describe())"
   ]
  },
  {
   "cell_type": "code",
   "execution_count": null,
   "id": "bb189597",
   "metadata": {},
   "outputs": [],
   "source": [
    "#データの正規化\n",
    "df['close_norm'] = sp.minmax_scale(df['close'])\n",
    "print(df.describe())"
   ]
  },
  {
   "cell_type": "code",
   "execution_count": null,
   "id": "09eaed90",
   "metadata": {},
   "outputs": [],
   "source": [
    "plt.plot(df['close_norm'])"
   ]
  },
  {
   "cell_type": "code",
   "execution_count": null,
   "id": "4b4abf74",
   "metadata": {},
   "outputs": [],
   "source": [
    "#訓練、テストデータの作成\n",
    "\n",
    "#データセットのサイズを決める。今回は10個のデータから次の１個を予測するためのデータセットを作る。\n",
    "maxlen = 10\n",
    "X, Y = [], []\n",
    "for i in range(len(df) - maxlen):\n",
    "    X.append(df[['close_norm']].iloc[i:(i+maxlen)].values)\n",
    "    Y.append(df[['close_norm']].iloc[i+maxlen].values)\n",
    "X=np.array(X)\n",
    "Y=np.array(Y)"
   ]
  },
  {
   "cell_type": "code",
   "execution_count": null,
   "id": "cac925d2",
   "metadata": {},
   "outputs": [],
   "source": [
    "print(X.shape)\n",
    "print(Y.shape)"
   ]
  },
  {
   "cell_type": "code",
   "execution_count": null,
   "id": "1486f843",
   "metadata": {},
   "outputs": [],
   "source": [
    "print(X[0])\n",
    "print(Y[0])"
   ]
  },
  {
   "cell_type": "code",
   "execution_count": null,
   "id": "11ea8795",
   "metadata": {},
   "outputs": [],
   "source": [
    "print(X[1])\n",
    "print(Y[1])"
   ]
  },
  {
   "cell_type": "code",
   "execution_count": null,
   "id": "9e13d637",
   "metadata": {},
   "outputs": [],
   "source": [
    "# 訓練用のデータと、テスト用のデータに分ける\n",
    "N_train = int(len(df) * 0.8)\n",
    "N_test = len(df) - N_train\n",
    "X_train, X_test, y_train, y_test = train_test_split(X, Y, test_size=N_test, shuffle = False) "
   ]
  },
  {
   "cell_type": "code",
   "execution_count": null,
   "id": "a5220e98",
   "metadata": {},
   "outputs": [],
   "source": [
    "# 隠れ層の数などを定義: 隠れ層の数が大きいほど精度が上がる?\n",
    "n_in = 1 # len(X[0][0])\n",
    "n_out = 1 # len(Y[0])\n",
    "n_hidden = 500\n",
    "epochs = 30\n",
    "\n",
    "#モデル作成 (Kerasのフレームワークで簡易に記載できる)\n",
    "model = Sequential()\n",
    "model.add(SimpleRNN(n_hidden, activation=\"tanh\", \n",
    "                    batch_input_shape=(None, maxlen, n_in)))\n",
    "model.add(Dense(n_in, kernel_initializer='random_uniform'))\n",
    "model.add(Activation(\"linear\"))\n",
    "\n",
    "model.compile(optimizer='sgd',                 # 最適化手法\n",
    "              loss='mean_squared_error')       # 損失関数\n",
    "\n",
    "hist = model.fit(X_train, y_train, batch_size=maxlen, epochs=epochs, verbose=1)"
   ]
  },
  {
   "cell_type": "code",
   "execution_count": null,
   "id": "e084d326",
   "metadata": {},
   "outputs": [],
   "source": [
    "# 損失のグラフ化（モデルがどれだけ予測出来ていないかの指標。０に近づくほどモデルの精度が良い。\n",
    "# ※推定を行う場合はAccuracyではなく、Lossでみる。\n",
    "loss = hist.history['loss']\n",
    "epochs = len(loss)\n",
    "plt.rc('font', family='serif')\n",
    "fig = plt.figure()\n",
    "fig.patch.set_facecolor('white')\n",
    "plt.plot(range(epochs), loss, marker='.', label='loss(training data)')\n",
    "plt.show()"
   ]
  },
  {
   "cell_type": "code",
   "execution_count": null,
   "id": "79f44ba8",
   "metadata": {},
   "outputs": [],
   "source": [
    "# 予測結果\n",
    "predicted = model.predict(X_test)\n",
    "result = pd.DataFrame(predicted)\n",
    "result.columns = ['predict']\n",
    "result['actual'] = y_test\n",
    "\n",
    "#正規化していた数値を金額に再変換する\n",
    "result['predict']=((df['close'].max()-df['close'].min())*result['predict'])+df['close'].min()\n",
    "result['actual']=((df['close'].max()-df['close'].min())*result['actual'])+df['close'].min()\n",
    "result.plot()\n",
    "plt.show()\n",
    "\n",
    "#平均値でオフセット\n",
    "#result['predict']=result['predict']-(result['predict'].mean()-result['actual'].mean())\n",
    "\n",
    "date=np.array(df.loc[len(df)-len(X_test):len(df),['date']])\n",
    "result['date']=np.array(date)\n",
    "\n",
    "result.loc[:,['date','actual','predict']]"
   ]
  },
  {
   "cell_type": "markdown",
   "id": "0317ac5a",
   "metadata": {},
   "source": [
    "大事なのは値が推定できているかではない。\n",
    "\n",
    "儲かるかどうかだ！\n",
    "\n",
    "結局儲かるの？"
   ]
  },
  {
   "cell_type": "code",
   "execution_count": null,
   "id": "c2c159b3",
   "metadata": {},
   "outputs": [],
   "source": [
    "#売買シミュレーションを作る\n",
    "bitprice=np.array(df.loc[len(df)-len(X_test):len(df),['open']])\n",
    "result['bitprice']=np.array(bitprice)\n",
    "result['Judge'] = False\n",
    "result['Rev'] = 0\n",
    "result['Hit'] = False\n",
    "result['totalRev'] = 0\n",
    "total_rev=0\n",
    "\n",
    "# Collumn Ref\n",
    "# 0:predict 1:actual 2:date 3:bitprice 4:Judge 5:Rev 6:hit 7:totalRev \n",
    "for index in range(len(result)-1):\n",
    "    if (result.iat[index+1, 0]>result.iat[index, 1]):    #当日の実終値よりも明日の予想終値が高い場合\n",
    "        result.iat[index+1, 4]=True                      #買う判断をする\n",
    "        result.iat[index+1, 5]=result.iat[index+1, 1]-result.iat[index+1, 3]    #翌日の初値で購入し、終値で売った金額がその日の儲け\n",
    "        if result.iat[index+1, 5]>0:\n",
    "            result.iat[index+1, 6]=True                  #モデル評価用に値上がり判断が妥当だったかを判定\n",
    "        total_rev=total_rev+result.iat[index+1, 5]       #差額を累積利益に算入\n",
    "    result.iat[index+1, 7]=total_rev                     #累積利益をresult表に追加"
   ]
  },
  {
   "cell_type": "code",
   "execution_count": null,
   "id": "a7c4abe1",
   "metadata": {},
   "outputs": [],
   "source": [
    "result['Rev'].plot()\n",
    "result['totalRev'].plot()\n",
    "plt.show()\n",
    "\n",
    "result.loc[:,['date','actual','predict','bitprice','Judge','Rev','Hit','totalRev']]"
   ]
  },
  {
   "cell_type": "code",
   "execution_count": null,
   "id": "76bda3f3",
   "metadata": {},
   "outputs": [],
   "source": [
    "#売買シミュレーション結果まとめ\n",
    "judgeTrue = result['Judge'] == True\n",
    "hitTrue = result['Hit'] == True\n",
    "\n",
    "print(\"判断回数: \"+str(len(result)))\n",
    "print(\"取引回数: \"+str(judgeTrue.sum()))\n",
    "print(\"利益獲得回数: \"+str(hitTrue.sum()))\n",
    "print(\"勝率:　\"+str(hitTrue.sum()/judgeTrue.sum()))\n",
    "print(\"最終利益： ￥\"+str(total_rev)+\"/単元\")"
   ]
  },
  {
   "cell_type": "markdown",
   "id": "e3dc0b1a",
   "metadata": {},
   "source": [
    "\n",
    "## __RNN以外の時系列モデルを使ってみる。（おまけ）__\n",
    "RNNより新しいLSTMモデルでのトライアル。"
   ]
  },
  {
   "cell_type": "code",
   "execution_count": null,
   "id": "bca53283",
   "metadata": {},
   "outputs": [],
   "source": [
    "# 隠れ層の数などを定義: 隠れ層の数が大きいほど精度が上がる?\n",
    "n_in = 1 # len(X[0][0])\n",
    "n_out = 1 # len(Y[0])\n",
    "n_hidden = 500\n",
    "\n",
    "#モデル作成 (Kerasのフレームワークで簡易に記載できる)\n",
    "model = Sequential()\n",
    "model.add(LSTM(n_hidden,\n",
    "               batch_input_shape=(None, maxlen, n_in),\n",
    "               kernel_initializer='random_uniform',\n",
    "               return_sequences=False))\n",
    "model.add(Dense(n_in, kernel_initializer='random_uniform'))\n",
    "#model.add(Activation(\"linear\"))\n",
    "\n",
    "#opt = Adam(lr=0.001, beta_1=0.9, beta_2=0.999)\n",
    "opt = Adam()                                   # 最適化手法の設定\n",
    "model.compile(optimizer = opt,                 # 最適化手法\n",
    "              loss = 'mean_squared_error',     # 損失関数\n",
    "              )\n",
    "\n",
    "early_stopping = EarlyStopping(monitor='loss', patience=10, verbose=1)\n",
    "hist = model.fit(X_train, y_train, batch_size=maxlen, epochs=10,\n",
    "                 callbacks=[early_stopping])"
   ]
  },
  {
   "cell_type": "code",
   "execution_count": null,
   "id": "68fa2689",
   "metadata": {},
   "outputs": [],
   "source": [
    "# 損失のグラフ化（モデルがどれだけ予測出来ていないかの指標。０に近づくほどモデルの精度が良い。\n",
    "# ※推定を行う場合はAccuracyではなく、Lossでみる。\n",
    "loss = hist.history['loss']\n",
    "epochs = len(loss)\n",
    "plt.rc('font', family='serif')\n",
    "fig = plt.figure()\n",
    "fig.patch.set_facecolor('white')\n",
    "plt.plot(range(epochs), loss, marker='.', label='loss(training data)')\n",
    "plt.show()"
   ]
  },
  {
   "cell_type": "code",
   "execution_count": null,
   "id": "1ff0d5af",
   "metadata": {},
   "outputs": [],
   "source": [
    "# 予測結果\n",
    "predicted = model.predict(X_test)\n",
    "result = pd.DataFrame(predicted)\n",
    "result.columns = ['predict']\n",
    "result['actual'] = y_test\n",
    "\n",
    "#正規化していた数値を金額に再変換する\n",
    "result['predict']=((df['close'].max()-df['close'].min())*result['predict'])+df['close'].min()\n",
    "result['actual']=((df['close'].max()-df['close'].min())*result['actual'])+df['close'].min()\n",
    "\n",
    "#平均値でオフセット\n",
    "#result['predict']=result['predict']-(result['predict'].mean()-result['actual'].mean())\n",
    "\n",
    "result.plot()\n",
    "plt.show()\n",
    "\n",
    "date=np.array(df.loc[len(df)-len(X_test):len(df),['date']])\n",
    "result['date']=np.array(date)\n",
    "\n",
    "result.loc[:,['date','actual','predict']]"
   ]
  },
  {
   "cell_type": "code",
   "execution_count": null,
   "id": "266123cf",
   "metadata": {},
   "outputs": [],
   "source": [
    "#売買シミュレーションを作る\n",
    "bitprice=np.array(df.loc[len(df)-len(X_test):len(df),['open']])\n",
    "result['bitprice']=np.array(bitprice)\n",
    "result['Judge'] = False\n",
    "result['Rev'] = 0\n",
    "result['Hit'] = False\n",
    "result['totalRev'] = 0\n",
    "total_rev=0\n",
    "\n",
    "# Collumn Ref\n",
    "# 0:predict 1:actual 2:date 3:bitprice 4:Judge 5:Rev 6:hit 7:totalRev \n",
    "for index in range(len(result)-1):\n",
    "    if (result.iat[index+1, 0]>result.iat[index, 1]):    #当日の実終値よりも明日の予想終値が高い場合\n",
    "        result.iat[index+1, 4]=True                      #買う判断をする\n",
    "        result.iat[index+1, 5]=result.iat[index+1, 1]-result.iat[index+1, 3]    #翌日の初値で購入し、終値で売った金額がその日の儲け\n",
    "        if result.iat[index+1, 5]>0:\n",
    "            result.iat[index+1, 6]=True                  #モデル評価用に値上がり判断が妥当だったかを判定\n",
    "        total_rev=total_rev+result.iat[index+1, 5]       #差額を累積利益に算入\n",
    "    result.iat[index+1, 7]=total_rev                     #累積利益をresult表に追加\n",
    "    \n",
    "\n",
    "result['Rev'].plot()\n",
    "result['totalRev'].plot()\n",
    "plt.show()\n",
    "\n",
    "result.loc[:,['date','actual','predict','bitprice','Judge','Rev','Hit','totalRev']]"
   ]
  },
  {
   "cell_type": "code",
   "execution_count": null,
   "id": "4319d286",
   "metadata": {},
   "outputs": [],
   "source": [
    "#売買シミュレーション結果まとめ(LSTM)\n",
    "judgeTrue = result['Judge'] == True\n",
    "hitTrue = result['Hit'] == True\n",
    "\n",
    "print(\"判断回数: \"+str(len(result)))\n",
    "print(\"取引回数: \"+str(judgeTrue.sum()))\n",
    "print(\"利益獲得回数: \"+str(hitTrue.sum()))\n",
    "print(\"勝率:　\"+str(hitTrue.sum()/judgeTrue.sum()))\n",
    "print(\"最終利益： ￥\"+str(total_rev)+\"/単元\")"
   ]
  },
  {
   "cell_type": "code",
   "execution_count": null,
   "id": "4a457796",
   "metadata": {},
   "outputs": [],
   "source": []
  }
 ],
 "metadata": {
  "kernelspec": {
   "display_name": "conda_tensorflow_p36",
   "language": "python",
   "name": "conda_tensorflow_p36"
  },
  "language_info": {
   "codemirror_mode": {
    "name": "ipython",
    "version": 3
   },
   "file_extension": ".py",
   "mimetype": "text/x-python",
   "name": "python",
   "nbconvert_exporter": "python",
   "pygments_lexer": "ipython3",
   "version": "3.6.13"
  }
 },
 "nbformat": 4,
 "nbformat_minor": 5
}
