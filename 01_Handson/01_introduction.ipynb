{
 "cells": [
  {
   "cell_type": "markdown",
   "metadata": {},
   "source": [
    "# Python & JupyterLab入門\n",
    "## これで一体何ができるの？"
   ]
  },
  {
   "cell_type": "markdown",
   "metadata": {},
   "source": [
    "---\n",
    "# Pythonのコードが実行できます"
   ]
  },
  {
   "cell_type": "code",
   "execution_count": null,
   "metadata": {},
   "outputs": [],
   "source": [
    "#コメントは#\n",
    "\n",
    "#表示しろ（Hello AI)\n",
    "print('Hello AI')"
   ]
  },
  {
   "cell_type": "code",
   "execution_count": null,
   "metadata": {},
   "outputs": [],
   "source": [
    "#表示しろ (数字10　足す　数字５)\n",
    "print(10+5)"
   ]
  },
  {
   "cell_type": "code",
   "execution_count": null,
   "metadata": {},
   "outputs": [],
   "source": [
    "#表示しろ(数字10 引く　数字5)\n",
    "print(10-5)"
   ]
  },
  {
   "cell_type": "code",
   "execution_count": null,
   "metadata": {},
   "outputs": [],
   "source": [
    "#printしなくても出たりする。\n",
    "10-9"
   ]
  },
  {
   "cell_type": "code",
   "execution_count": null,
   "metadata": {},
   "outputs": [],
   "source": [
    "#textに入れろ　入力させろ（入力せよを表示）\n",
    "text=   input('入力せよ')"
   ]
  },
  {
   "cell_type": "code",
   "execution_count": null,
   "metadata": {},
   "outputs": [],
   "source": [
    "print(text)"
   ]
  },
  {
   "cell_type": "code",
   "execution_count": null,
   "metadata": {},
   "outputs": [],
   "source": [
    "#AI という変数（箱）に偽物（False)を入れる\n",
    "AI =False\n",
    "\n",
    "#表示せよ(AIの中身)\n",
    "print(AI)"
   ]
  },
  {
   "cell_type": "code",
   "execution_count": null,
   "metadata": {},
   "outputs": [],
   "source": [
    "#もし　AIという変数（箱）に本物（True)が入っていたら\n",
    "if (AI==True):\n",
    "    #表示せよ AI desu\n",
    "    print('AI desu')\n",
    "#そうでなければ\n",
    "else:\n",
    "    #表示せよ　Nisemono desu\n",
    "    print('Nisemono desu')"
   ]
  },
  {
   "cell_type": "code",
   "execution_count": null,
   "metadata": {},
   "outputs": [],
   "source": [
    "# ～の間　変数i 内　範囲　数値５\n",
    "for i in range(5):\n",
    "    #表示しろ　変数i と　Hellow AI\n",
    "    print(i,':Hello AI')\n"
   ]
  },
  {
   "cell_type": "code",
   "execution_count": null,
   "metadata": {},
   "outputs": [],
   "source": [
    "# エラーメッセージを読み解け\n",
    "\n",
    "for i in range(5)\n",
    "    print('error!')"
   ]
  },
  {
   "cell_type": "markdown",
   "metadata": {},
   "source": [
    "---\n",
    "# マークダウン記法でレポートが作れます\n",
    "\n",
    "# 見出し\n",
    "## 見出し２\n",
    "### 見出し3\n",
    "#### 見出し4\n",
    "普通の文字列\n",
    " \n",
    "```python\n",
    "# コードの埋め込み\n",
    "print(\"test\")\n",
    "```\n",
    " \n",
    "__文字の強調__\n",
    " \n",
    "リスト\n",
    "- item1\n",
    "- item2\n",
    "- item3"
   ]
  },
  {
   "cell_type": "code",
   "execution_count": null,
   "metadata": {},
   "outputs": [],
   "source": []
  },
  {
   "cell_type": "markdown",
   "metadata": {},
   "source": [
    "---\n",
    "# 計算が得意です\n",
    "## Numpy\n",
    "Pythonの数値計算ライブラリであるnumpyは、行列計算をはじめとする様々な数学関数を提供してくれます。\n",
    "numpyのサポートする関数は多岐に渡り、とてもすべての機能について説明することはできないほどです。\n",
    "そこでここでは特に今後の講義・演習で必要になってくる基本的な事柄をピックアップして触れていきます。"
   ]
  },
  {
   "cell_type": "code",
   "execution_count": null,
   "metadata": {},
   "outputs": [],
   "source": [
    "import numpy as np"
   ]
  },
  {
   "cell_type": "code",
   "execution_count": null,
   "metadata": {},
   "outputs": [],
   "source": [
    "# - array：要素指定によるnumpy配列の生成\n",
    "W = np.array([[1, 2, 3], [4, 5, 6]])\n",
    "x = np.array([7, 8, 9])\n",
    "\n",
    "print(W)\n",
    "print(x)"
   ]
  },
  {
   "cell_type": "code",
   "execution_count": null,
   "metadata": {},
   "outputs": [],
   "source": [
    "# - shape：numpy配列の次元\n",
    "print(W.shape)\n",
    "print(x.shape)"
   ]
  },
  {
   "cell_type": "code",
   "execution_count": null,
   "metadata": {},
   "outputs": [],
   "source": [
    "# - arange：[start, stop)の連番numpy配列の生成\n",
    "print(np.arange(10))       # start = 0 (default), end = 10\n",
    "print(np.arange(3,7))      # start = 3, end = 7\n",
    "print(np.arange(1,10,0.1)) # start = 1, end = 10, slice = 0.1"
   ]
  },
  {
   "cell_type": "code",
   "execution_count": null,
   "metadata": {},
   "outputs": [],
   "source": [
    "# - reshape：numpy配列の形状（次元）の変換\n",
    "print(W.reshape(3, 2))\n",
    "print(np.arange(10).reshape(2, 5))"
   ]
  },
  {
   "cell_type": "code",
   "execution_count": null,
   "metadata": {},
   "outputs": [],
   "source": [
    "# - 条件式による要素アクセス（Boolean array indexing）\n",
    "a = np.arange(10)\n",
    "print(a)\n",
    "print(a < 5)\n",
    "print(np.where(a < 5))\n",
    "print()\n",
    "\n",
    "b = np.arange(50, 60)\n",
    "print(b)\n",
    "print(b[a < 5])\n",
    "print(b[np.where(a < 5)])"
   ]
  },
  {
   "cell_type": "code",
   "execution_count": null,
   "metadata": {},
   "outputs": [],
   "source": [
    "# 行列・ベクトルに関する計算\n",
    "#スカラー演算\n",
    "W = np.array([[1, 2, 3], [4, 5, 6]])\n",
    "x = np.array([7, 8, 9])"
   ]
  },
  {
   "cell_type": "code",
   "execution_count": null,
   "metadata": {},
   "outputs": [],
   "source": [
    "print(W * x)"
   ]
  },
  {
   "cell_type": "code",
   "execution_count": null,
   "metadata": {},
   "outputs": [],
   "source": [
    "print(-x)"
   ]
  },
  {
   "cell_type": "code",
   "execution_count": null,
   "metadata": {},
   "outputs": [],
   "source": [
    "print(W+3)"
   ]
  },
  {
   "cell_type": "code",
   "execution_count": null,
   "metadata": {},
   "outputs": [],
   "source": [
    "#行列積\n",
    "print(np.matmul(W, x))\n",
    "print()\n",
    "\n",
    "print(np.dot(W, x))\n",
    "print()"
   ]
  },
  {
   "cell_type": "markdown",
   "metadata": {},
   "source": [
    "---\n",
    "# グラフが描けます"
   ]
  },
  {
   "cell_type": "code",
   "execution_count": null,
   "metadata": {},
   "outputs": [],
   "source": [
    "# おまじない\n",
    "%matplotlib inline\n",
    " \n",
    "import numpy as np\n",
    "import matplotlib.pyplot as plt\n"
   ]
  },
  {
   "cell_type": "code",
   "execution_count": null,
   "metadata": {},
   "outputs": [],
   "source": [
    "x = np.random.randint(100, size=100) #ランダムな数字を生成\n",
    "print(np.size(x))\n",
    "print(np.max(x))\n",
    "print(np.min(x))\n",
    "x"
   ]
  },
  {
   "cell_type": "code",
   "execution_count": null,
   "metadata": {},
   "outputs": [],
   "source": [
    "plt.plot(x) #グラフを描画"
   ]
  },
  {
   "cell_type": "code",
   "execution_count": null,
   "metadata": {},
   "outputs": [],
   "source": [
    "x = np.arange(-3, 3, 0.1)\n",
    "y = np.sin(x)\n",
    "plt.plot(x, y)"
   ]
  },
  {
   "cell_type": "code",
   "execution_count": null,
   "metadata": {},
   "outputs": [],
   "source": [
    "n = 300\n",
    "x = np.random.randn(n)\n",
    "y = np.sin(x) + np.random.randn(n) * 0.3\n",
    "\n",
    "fig = plt.figure()\n",
    "\n",
    "# サブプロットを8:2で分割\n",
    "ax1 = fig.add_axes((0, 0.2, 1, 0.8))\n",
    "ax2 = fig.add_axes((0, 0, 1, 0.2), sharex=ax1)\n",
    "\n",
    "# 散布図のx軸のラベルとヒストグラムのy軸のラベルを非表示\n",
    "ax1.tick_params(labelbottom=\"off\")\n",
    "ax2.tick_params(labelleft=\"off\")\n",
    "\n",
    "ax1.plot(x, y, \"x\")\n",
    "ax2.hist(x, bins=20)"
   ]
  },
  {
   "cell_type": "code",
   "execution_count": null,
   "metadata": {},
   "outputs": [],
   "source": [
    "x = np.random.randn(100)\n",
    "y1 = x + np.random.randn(100)\n",
    "y2 = x * 3 + np.random.randn(100)\n",
    "plt.plot(x, y1, \"r.\", label=\"label 1\")\n",
    "plt.plot(x, y2, \"k.\", label=\"label 2\")\n",
    "plt.legend()"
   ]
  },
  {
   "cell_type": "code",
   "execution_count": null,
   "metadata": {},
   "outputs": [],
   "source": [
    "#こんなグラフもかける https://matplotlib.org/xkcd/gallery.html\n",
    "plt.xkcd()"
   ]
  },
  {
   "cell_type": "code",
   "execution_count": null,
   "metadata": {},
   "outputs": [],
   "source": [
    "x = np.arange(-3, 3, 0.1)\n",
    "y = np.sin(x)\n",
    "plt.plot(x, y)\n",
    "#かわいい"
   ]
  },
  {
   "cell_type": "code",
   "execution_count": null,
   "metadata": {},
   "outputs": [],
   "source": [
    "x = np.array([0.2, 0.4, 0.15, 0.25])\n",
    "labels = ['Melon', 'Banana', 'Grape', 'Apple']\n",
    "colors = ['yellowgreen', 'gold', 'lightskyblue', 'lightcoral']\n",
    "plt.pie(x, autopct='%d%%', labels=labels, colors=colors)\n",
    "plt.axis('equal')\n",
    "plt.title('Pie Chart')\n",
    "plt.show()\n",
    "#もっとかわいい"
   ]
  },
  {
   "cell_type": "code",
   "execution_count": null,
   "metadata": {},
   "outputs": [],
   "source": [
    "from mpl_toolkits.mplot3d import Axes3D\n",
    "\n",
    "fig = plt.figure()\n",
    "ax = fig.add_subplot(111, projection='3d')\n",
    "for c, z in zip(['r', 'g', 'b', 'y'], [30, 20, 10, 0]):\n",
    "    xs = np.arange(20)\n",
    "    ys = np.random.rand(20)\n",
    "\n",
    "    # You can provide either a single color or an array. To demonstrate this,\n",
    "    # the first bar of each set will be colored cyan.\n",
    "    cs = [c] * len(xs)\n",
    "    cs[0] = 'c'\n",
    "    ax.bar(xs, ys, zs=z, zdir='y', color=cs, alpha=0.8)\n",
    "\n",
    "ax.set_xlabel('X')\n",
    "ax.set_ylabel('Y')\n",
    "ax.set_zlabel('Z')\n",
    "\n",
    "plt.show()\n",
    "#ムーミンのにょろにょろっぽい"
   ]
  },
  {
   "cell_type": "code",
   "execution_count": null,
   "metadata": {},
   "outputs": [],
   "source": [
    "#硬派な世界にもどる\n",
    "plt.rcdefaults()"
   ]
  },
  {
   "cell_type": "code",
   "execution_count": null,
   "metadata": {},
   "outputs": [],
   "source": [
    "x = np.arange(-3, 3, 0.1)\n",
    "y = np.sin(x)\n",
    "plt.plot(x, y)"
   ]
  },
  {
   "cell_type": "markdown",
   "metadata": {},
   "source": [
    "---\n",
    "# 表や統計量をだせます"
   ]
  },
  {
   "cell_type": "code",
   "execution_count": null,
   "metadata": {},
   "outputs": [],
   "source": [
    "# Pandas、及び必要なライブラリのインポート\n",
    "import pandas as pd\n",
    "from pandas import DataFrame\n",
    "import numpy as np\n",
    "\n",
    "# サンプルデータセットを取得する\n",
    "from sklearn import datasets\n",
    "boston = datasets.load_boston() # https://www.kaggle.com/c/boston-housing"
   ]
  },
  {
   "cell_type": "raw",
   "metadata": {},
   "source": [
    "Boston Housing Dataset\n",
    "ある地域の不動産の属性を元にして、その地域の平均物件価格を予測する　という練習を行うためのデータセット\n",
    "CRIM・・・犯罪発生率（人口単位）\n",
    "ZN・・・25,000平方フィート以上の住宅区画の割合\n",
    "INDUS・・・非小売業の土地面積の割合（人口単位）\n",
    "CHAS・・・チャールズ川沿いかどうか（1:Yes、0:No）\n",
    "NOX・・・窒素酸化物の濃度（pphm単位）\n",
    "RM・・・1戸あたりの平均部屋数\n",
    "AGE・・・1940年よりも前に建てられた家屋の割合\n",
    "DIS・・・ボストンの主な5つの雇用圏までの重み付き距離\n",
    "RAD・・・幹線道路へのアクセス指数\n",
    "TAX・・・10,000ドルあたりの所得税率\n",
    "PTRATIO・・・教師あたりの生徒の数（人口単位）\n",
    "B・・・黒人居住者の割合（人口単位）\n",
    "LSTAT・・・低所得者の割合"
   ]
  },
  {
   "cell_type": "code",
   "execution_count": null,
   "metadata": {},
   "outputs": [],
   "source": [
    "# PandasのDataFrame型に変換\n",
    "df = DataFrame(boston.data, columns = boston.feature_names)\n",
    "# 目的変数をDataFrameへ追加\n",
    "df['MEDV'] = np.array(boston.target)"
   ]
  },
  {
   "cell_type": "code",
   "execution_count": null,
   "metadata": {},
   "outputs": [],
   "source": [
    "# 先頭の五行を表示\n",
    "df.head()"
   ]
  },
  {
   "cell_type": "code",
   "execution_count": null,
   "metadata": {},
   "outputs": [],
   "source": [
    "#データの形（行と列）を表示\n",
    "df.shape"
   ]
  },
  {
   "cell_type": "code",
   "execution_count": null,
   "metadata": {},
   "outputs": [],
   "source": [
    "#データの詳細\n",
    "df.info()"
   ]
  },
  {
   "cell_type": "code",
   "execution_count": null,
   "metadata": {},
   "outputs": [],
   "source": [
    "#データの統計量\n",
    "df.describe()"
   ]
  },
  {
   "cell_type": "code",
   "execution_count": null,
   "metadata": {},
   "outputs": [],
   "source": [
    "#列の統計量\n",
    "print(\"平均値:\", df.MEDV.mean())\n",
    "print(\"中央値:\", df.MEDV.median())\n",
    "print(\"分散:\", df.MEDV.var())"
   ]
  },
  {
   "cell_type": "code",
   "execution_count": null,
   "metadata": {},
   "outputs": [],
   "source": [
    "#ヒストグラム表示\n",
    "df.MEDV[:100].hist()"
   ]
  },
  {
   "cell_type": "code",
   "execution_count": null,
   "metadata": {},
   "outputs": [],
   "source": []
  }
 ],
 "metadata": {
  "kernelspec": {
   "display_name": "conda_tensorflow_p36",
   "language": "python",
   "name": "conda_tensorflow_p36"
  },
  "language_info": {
   "codemirror_mode": {
    "name": "ipython",
    "version": 3
   },
   "file_extension": ".py",
   "mimetype": "text/x-python",
   "name": "python",
   "nbconvert_exporter": "python",
   "pygments_lexer": "ipython3",
   "version": "3.6.13"
  }
 },
 "nbformat": 4,
 "nbformat_minor": 4
}
